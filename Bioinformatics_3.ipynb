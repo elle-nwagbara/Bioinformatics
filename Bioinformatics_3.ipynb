{
 "cells": [
  {
   "cell_type": "code",
   "execution_count": null,
   "id": "7c9d6179-10f0-43f8-9b2e-12e3fc8cdbea",
   "metadata": {},
   "outputs": [],
   "source": [
    "count = {\"A\": [2, 2, 0, 0, 0, 0, 9, 1, 1, 1, 3, 0],\n",
    "         \"C\": [1, 6, 0, 0, 0, 0, 0, 4, 1, 2, 4, 6],\n",
    "         \"G\": [0, 0,10,10, 9, 9, 1, 0, 0, 0, 0, 0],\n",
    "         \"T\": [7, 2, 0, 0, 1, 1, 0, 5, 8, 7, 3, 4]\n",
    "        } "
   ]
  },
  {
   "cell_type": "code",
   "execution_count": 9,
   "id": "646920f2-a22f-49f9-8add-bdcc5823f597",
   "metadata": {},
   "outputs": [
    {
     "data": {
      "text/plain": [
       "{'A': [1, 2, 1, 0, 0, 2],\n",
       " 'C': [2, 1, 4, 2, 0, 0],\n",
       " 'G': [1, 1, 0, 2, 1, 1],\n",
       " 'T': [1, 1, 0, 1, 4, 2]}"
      ]
     },
     "execution_count": 9,
     "metadata": {},
     "output_type": "execute_result"
    }
   ],
   "source": [
    "#to count the number of nuclueotides in a sequenc (motif) and return the result as a dictionary\n",
    "def Count(Motifs):\n",
    "    count = {} # initializing the count dictionary\n",
    "    k = len(Motifs[0])\n",
    "    for symbol in \"ACGT\":\n",
    "        count[symbol] = []\n",
    "        for j in range(k):\n",
    "             count[symbol].append(0)\n",
    "         \n",
    "        t = len(Motifs)\n",
    "    for i in range(t):\n",
    "        for j in range(k):\n",
    "            symbol = Motifs[i][j]\n",
    "            count[symbol][j] += 1\n",
    "    return count\n",
    "\n",
    "Motifs = [\"AACGTA\",\"CCCGTT\",\"CACCTT\",\"GGATTA\",\"TTCCGG\"]\n",
    "Count(Motifs)"
   ]
  },
  {
   "cell_type": "code",
   "execution_count": 7,
   "id": "f8bc1784-0e3e-4c87-9f20-e3d1e289e82a",
   "metadata": {},
   "outputs": [
    {
     "name": "stdout",
     "output_type": "stream",
     "text": [
      "{'A': [1, 2, 1, 0, 0, 2], 'C': [2, 1, 4, 2, 0, 0], 'G': [1, 1, 0, 2, 1, 1], 'T': [1, 1, 0, 1, 4, 2]}\n",
      "{'A': [0.2, 0.4, 0.2, 0.0, 0.0, 0.4], 'C': [0.4, 0.2, 0.8, 0.4, 0.0, 0.0], 'G': [0.2, 0.2, 0.0, 0.4, 0.2, 0.2], 'T': [0.2, 0.2, 0.0, 0.2, 0.8, 0.4]}\n"
     ]
    }
   ],
   "source": [
    "#An alternative Count(Motifs) function\n",
    "def Count(Motifs):\n",
    "    # Initialize counts for A, C, G, T\n",
    "    count = {nucleotide: [0] * len(Motifs[0]) for nucleotide in 'ACGT'}\n",
    "    \n",
    "    for motif in Motifs:\n",
    "        for i, nucleotide in enumerate(motif):\n",
    "            count[nucleotide][i] += 1\n",
    "    return count\n",
    "\n",
    "#to create a profile matrix using the count\n",
    "def Profile(Motifs):\n",
    "    # Get the count matrix\n",
    "    count_matrix = Count(Motifs)\n",
    "    profile = {}\n",
    "    \n",
    "    # Calculate the profile matrix\n",
    "    total_motifs = len(Motifs)\n",
    "    \n",
    "    for i in 'ACGT':\n",
    "        profile[i] = [count / total_motifs for count in count_matrix[i]]\n",
    "    \n",
    "    return profile\n",
    "\n",
    "Motifs = [\"AACGTA\",\"CCCGTT\",\"CACCTT\",\"GGATTA\",\"TTCCGG\"]\n",
    "print(Count(Motifs))\n",
    "print(Profile(Motifs))"
   ]
  },
  {
   "cell_type": "code",
   "execution_count": 11,
   "id": "81b5451f-4d8b-43e4-9457-07a03592220e",
   "metadata": {},
   "outputs": [
    {
     "data": {
      "text/plain": [
       "'CACCTA'"
      ]
     },
     "execution_count": 11,
     "metadata": {},
     "output_type": "execute_result"
    }
   ],
   "source": [
    "def Consensus(Motifs):\n",
    "    consensus = \"\"\n",
    "    k = len(Motifs[0])\n",
    "    count = Count(Motifs)\n",
    "\n",
    "    for j in range(k):\n",
    "        m = 0\n",
    "        frequentSymbol = \"\"\n",
    "        for symbol in \"ACGT\":\n",
    "            if count[symbol][j] > m:\n",
    "                m = count[symbol][j]\n",
    "                frequentSymbol = symbol\n",
    "        consensus += frequentSymbol\n",
    "    return consensus\n",
    "\n",
    "Motifs = [\"AACGTA\",\"CCCGTT\",\"CACCTT\",\"GGATTA\",\"TTCCGG\"]\n",
    "Consensus(Motifs)"
   ]
  },
  {
   "cell_type": "code",
   "execution_count": 13,
   "id": "bd9e80f3-af7e-448f-8776-b82cab512616",
   "metadata": {},
   "outputs": [
    {
     "data": {
      "text/plain": [
       "14"
      ]
     },
     "execution_count": 13,
     "metadata": {},
     "output_type": "execute_result"
    }
   ],
   "source": [
    "#to compute Score of Motifs\n",
    "def Score(Motifs):\n",
    "    consensus=Consensus(Motifs)\n",
    "    t=len(Motifs)\n",
    "    k=len(Motifs[0])\n",
    "    score=0\n",
    "    for i in range(t):\n",
    "        for j in range(k):\n",
    "            if Motifs[i][j]!=consensus[j]:\n",
    "                score+=1\n",
    "                \n",
    "    return score\n",
    "Score(Motifs)"
   ]
  },
  {
   "cell_type": "code",
   "execution_count": 15,
   "id": "a497da31-84a6-4dd3-baf4-e235a31d538c",
   "metadata": {},
   "outputs": [
    {
     "data": {
      "text/plain": [
       "{'A': [0.08333333333333333],\n",
       " 'C': [0.25],\n",
       " 'G': [0.25],\n",
       " 'T': [0.4166666666666667]}"
      ]
     },
     "execution_count": 15,
     "metadata": {},
     "output_type": "execute_result"
    }
   ],
   "source": [
    "Profile(\"TCGTGGATTTCC\")"
   ]
  },
  {
   "cell_type": "code",
   "execution_count": 19,
   "id": "cce6acb8-9799-4c7c-a303-e0938d7c4290",
   "metadata": {},
   "outputs": [
    {
     "data": {
      "text/plain": [
       "0.0008398080000000002"
      ]
     },
     "execution_count": 19,
     "metadata": {},
     "output_type": "execute_result"
    }
   ],
   "source": [
    "def Pr(Text, Profile):  \n",
    "    p = 1  # Initialize probability\n",
    "    for i in range(len(Text)):\n",
    "        symbol = Text[i]\n",
    "        p *= Profile[symbol][i]  # Multiply by the profile's probability for symbol at position i\n",
    "    return p\n",
    "\n",
    "Text = \"ACGGGGATTACC\"\n",
    "Profile = {'A': [0.2, 0.2, 0.0, 0.0, 0.0, 0.0, 0.9, 0.1, 0.1, 0.1, 0.3, 0.0], \n",
    "           'C': [0.1, 0.6, 0.0, 0.0, 0.0, 0.0, 0.0, 0.4, 0.1, 0.2, 0.4, 0.6], \n",
    "           'G': [0.0, 0.0, 1.0, 1.0, 0.9, 0.9, 0.1, 0.0, 0.0, 0.0, 0.0, 0.0], \n",
    "           'T': [0.7, 0.2, 0.0, 0.0, 0.1, 0.1, 0.0, 0.5, 0.8, 0.7, 0.3, 0.4]}\n",
    "Pr(Text, Profile)"
   ]
  },
  {
   "cell_type": "code",
   "execution_count": 28,
   "id": "c0c2137e-96d8-49e6-8c40-b5b643b737ad",
   "metadata": {},
   "outputs": [
    {
     "data": {
      "text/plain": [
       "0.0"
      ]
     },
     "execution_count": 28,
     "metadata": {},
     "output_type": "execute_result"
    }
   ],
   "source": [
    "Pr(\"TCGTGGATTTCC\", Profile)"
   ]
  },
  {
   "cell_type": "code",
   "execution_count": 33,
   "id": "762668a0-9e86-409e-8fea-0aa0cbe21952",
   "metadata": {},
   "outputs": [
    {
     "name": "stdout",
     "output_type": "stream",
     "text": [
      "0.0108\n"
     ]
    },
    {
     "data": {
      "text/plain": [
       "'CAGT'"
      ]
     },
     "execution_count": 33,
     "metadata": {},
     "output_type": "execute_result"
    }
   ],
   "source": [
    "\n",
    "def ProfileMostProbableKmer(Text, k, Profile):\n",
    "    max_prob = -1  # Initialize the maximum probability\n",
    "    most_probable_kmer = Text[:k] \n",
    "    for i in range(len(Text) - k + 1):\n",
    "        kmer = Text[i:i + k]  # Extract the k-mer of length k starting at position i\n",
    "        prob = Pr(kmer, Profile)  # Compute the probability of this k-mer\n",
    "        \n",
    "        if prob > max_prob:\n",
    "            max_prob = prob\n",
    "            most_probable_kmer = kmer\n",
    "    \n",
    "    return most_probable_kmer\n",
    "\n",
    "\n",
    "\n",
    "Text = \"CAGTGA\"\n",
    "k = 4\n",
    "Profile = {\"A\": [0.4,  0.3,  0.0,  0.1,  0.0,  0.9], \n",
    "           \"C\": [0.2,  0.3,  0.0,  0.4,  0.0,  0.1], \n",
    "           \"G\": [0.1,  0.3,  1.0,  0.1,  0.5,  0.0],\n",
    "          \"T\":  [0.3,  0.1,  0.0,  0.4,  0.5,  0.0]}  \n",
    "\n",
    "\n",
    "\n",
    "print(Pr(Text, Profile))\n",
    "ProfileMostProbableKmer(Text, k, Profile)"
   ]
  },
  {
   "cell_type": "code",
   "execution_count": 37,
   "id": "777faedb-a8c1-4917-b95e-28395ab15acc",
   "metadata": {},
   "outputs": [
    {
     "data": {
      "text/plain": [
       "['T',\n",
       " 'G',\n",
       " 'A',\n",
       " 'C',\n",
       " 'C',\n",
       " 'C',\n",
       " 'G',\n",
       " 'T',\n",
       " 'T',\n",
       " 'A',\n",
       " 'T',\n",
       " 'G',\n",
       " 'C',\n",
       " 'T',\n",
       " 'C',\n",
       " 'G',\n",
       " 'A',\n",
       " 'G',\n",
       " 'T',\n",
       " 'T',\n",
       " 'C',\n",
       " 'G',\n",
       " 'G',\n",
       " 'T',\n",
       " 'C',\n",
       " 'A',\n",
       " 'G',\n",
       " 'A',\n",
       " 'G',\n",
       " 'C',\n",
       " 'G',\n",
       " 'T',\n",
       " 'C',\n",
       " 'A',\n",
       " 'T',\n",
       " 'T',\n",
       " 'G',\n",
       " 'C',\n",
       " 'G',\n",
       " 'A',\n",
       " 'G',\n",
       " 'T',\n",
       " 'A',\n",
       " 'G',\n",
       " 'T',\n",
       " 'C',\n",
       " 'G',\n",
       " 'T',\n",
       " 'T',\n",
       " 'T',\n",
       " 'G',\n",
       " 'C',\n",
       " 'T',\n",
       " 'T',\n",
       " 'T',\n",
       " 'C',\n",
       " 'T',\n",
       " 'C',\n",
       " 'A',\n",
       " 'A',\n",
       " 'A',\n",
       " 'C',\n",
       " 'T',\n",
       " 'C',\n",
       " 'C']"
      ]
     },
     "execution_count": 37,
     "metadata": {},
     "output_type": "execute_result"
    }
   ],
   "source": [
    "\n",
    "def GreedyMotifSearch(Dna, k, t):\n",
    "    n = len(Dna[0])\n",
    "    BestMotifs = [Dna[i][0:k] for i in range(t)]\n",
    "    for i in range(n - k + 1):\n",
    "        motifs = [Dna[0][i:i + k]]\n",
    "        for j in range(1, t):\n",
    "            profile = Profile(motifs[0:j])\n",
    "            motifs.append(ProfileMostProbableKmer(Dna[j], k, profile))\n",
    "        if Score(motifs) < Score(BestMotifs):\n",
    "            BestMotifs = motifs\n",
    "    return BestMotifs\n",
    "\n",
    "Profile = {\"A\": [0.4,  0.3,  0.0,  0.1,  0.0,  0.9], \n",
    "           \"C\": [0.2,  0.3,  0.0,  0.4,  0.0,  0.1],\n",
    "           \"G\": [0.1,  0.3,  1.0,  0.1,  0.5,  0.0],\n",
    "          \"T\":  [0.3,  0.1,  0.0,  0.4,  0.5,  0.0]}\n",
    "\n",
    "Dna = \"TGACCCGTTATGCTCGAGTTCGGTCAGAGCGTCATTGCGAGTAGTCGTTTGCTTTCTCAAACTCC\"\n",
    "k = 4\n",
    "t = len(Dna)\n",
    "GreedyMotifSearch(Dna, k, t)"
   ]
  },
  {
   "cell_type": "code",
   "execution_count": 49,
   "id": "f709edca-2979-4d6e-a203-a136f3a72fc8",
   "metadata": {},
   "outputs": [
    {
     "name": "stdout",
     "output_type": "stream",
     "text": [
      "9.916290005356972\n"
     ]
    }
   ],
   "source": [
    "import numpy as np\n",
    "a = [0.2,0.2,0.6,0.2,0.1,0.7,0.9,0.1,0.9,0.1,0.9,0.1,0.1,0.4,0.5,0.1,0.1,0.8,0.1,0.2,0.7,0.3,0.4,0.3,0.6,0.4]#to simplipy the script, I ignore the all 0 and 1.\n",
    "entropy = 0\n",
    "for i in a:\n",
    "    entropy += -i*(np.log2(i))\n",
    "print(entropy)"
   ]
  },
  {
   "cell_type": "code",
   "execution_count": null,
   "id": "82a6b25b-5285-4bb4-a0b0-31b7ae176ab4",
   "metadata": {},
   "outputs": [],
   "source": []
  }
 ],
 "metadata": {
  "kernelspec": {
   "display_name": "Python 3 (ipykernel)",
   "language": "python",
   "name": "python3"
  },
  "language_info": {
   "codemirror_mode": {
    "name": "ipython",
    "version": 3
   },
   "file_extension": ".py",
   "mimetype": "text/x-python",
   "name": "python",
   "nbconvert_exporter": "python",
   "pygments_lexer": "ipython3",
   "version": "3.12.4"
  }
 },
 "nbformat": 4,
 "nbformat_minor": 5
}
