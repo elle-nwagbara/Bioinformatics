{
 "cells": [
  {
   "cell_type": "markdown",
   "id": "3a81ee83-56a3-4f9e-b12d-a88575858c2e",
   "metadata": {},
   "source": [
    "# Creating Functions\n",
    "### Pattern Count"
   ]
  },
  {
   "cell_type": "code",
   "execution_count": 43,
   "id": "d9d5ae34-0dc7-4d90-90e7-f994e7ae5595",
   "metadata": {
    "scrolled": true
   },
   "outputs": [
    {
     "data": {
      "text/plain": [
       "5"
      ]
     },
     "execution_count": 43,
     "metadata": {},
     "output_type": "execute_result"
    }
   ],
   "source": [
    "# Creating a Pattern Count function that identifies how many times a pattern appears in a length of string\n",
    "Text = \"CGCGATACGTTACATACATGATAGACCGCGCGCGATCATATCGCGATTATC\"\n",
    "Pattern = \"CGCG\"\n",
    "def PatternCount(Text, Pattern):\n",
    "    count = 0\n",
    "    for i in range(len(Text)-len(Pattern)+1):\n",
    "        if Text[i:i+len(Pattern)] == Pattern:\n",
    "            count = count+1\n",
    "    return count \n",
    "\n",
    "PatternCount(Text, Pattern)"
   ]
  },
  {
   "cell_type": "code",
   "execution_count": 45,
   "id": "f77a50d6-ddde-4c49-bfc2-ed9ddb731127",
   "metadata": {},
   "outputs": [
    {
     "data": {
      "text/plain": [
       "{'CGCG': 5,\n",
       " 'GCGA': 3,\n",
       " 'CGAT': 3,\n",
       " 'GATA': 2,\n",
       " 'ATAC': 2,\n",
       " 'TACG': 1,\n",
       " 'ACGT': 1,\n",
       " 'CGTT': 1,\n",
       " 'GTTA': 1,\n",
       " 'TTAC': 1,\n",
       " 'TACA': 2,\n",
       " 'ACAT': 2,\n",
       " 'CATA': 2,\n",
       " 'CATG': 1,\n",
       " 'ATGA': 1,\n",
       " 'TGAT': 1,\n",
       " 'ATAG': 1,\n",
       " 'TAGA': 1,\n",
       " 'AGAC': 1,\n",
       " 'GACC': 1,\n",
       " 'ACCG': 1,\n",
       " 'CCGC': 1,\n",
       " 'GCGC': 2,\n",
       " 'GATC': 1,\n",
       " 'ATCA': 1,\n",
       " 'TCAT': 1,\n",
       " 'ATAT': 1,\n",
       " 'TATC': 2,\n",
       " 'ATCG': 1,\n",
       " 'TCGC': 1,\n",
       " 'GATT': 1,\n",
       " 'ATTA': 1,\n",
       " 'TTAT': 1}"
      ]
     },
     "execution_count": 45,
     "metadata": {},
     "output_type": "execute_result"
    }
   ],
   "source": [
    "# To create a frequency map that returns the frequency of a specified number of substrings (k-mers) through a length of string \n",
    "#result is a dictionary with the key as the substring and the frequency as the value\n",
    "def FrequencyMap(Text, k):\n",
    "    freq = {}\n",
    "    n = len(Text)\n",
    "    for i in range(n-k+1):\n",
    "        Pattern = Text[i:i+k]\n",
    "        freq[Pattern] = 0\n",
    "    for i in range(n-k+1):\n",
    "        Pattern = Text[i:i+k]\n",
    "        freq[Pattern] = freq[Pattern]+ 1\n",
    "    \n",
    "    return freq\n",
    "\n",
    "k = 4\n",
    "FrequencyMap(Text, k)"
   ]
  },
  {
   "cell_type": "code",
   "execution_count": 59,
   "id": "29164780-5724-48e9-8dcd-4750a57e06e5",
   "metadata": {},
   "outputs": [
    {
     "name": "stdout",
     "output_type": "stream",
     "text": [
      "{'ACGTT': 1, 'CGTTG': 1, 'GTTGC': 1, 'TTGCA': 1, 'TGCAT': 2, 'GCATG': 3, 'CATGT': 1, 'ATGTC': 1, 'TGTCG': 1, 'GTCGC': 1, 'TCGCA': 1, 'CGCAT': 1, 'CATGA': 2, 'ATGAT': 1, 'TGATG': 1, 'GATGC': 1, 'ATGCA': 1, 'ATGAG': 1, 'TGAGA': 1, 'GAGAG': 1, 'AGAGC': 1, 'GAGCT': 1}\n"
     ]
    },
    {
     "data": {
      "text/plain": [
       "['GCATG']"
      ]
     },
     "execution_count": 59,
     "metadata": {},
     "output_type": "execute_result"
    }
   ],
   "source": [
    "#To create a function which returns a list of the most frequent words of a specified length in the Frequency Map\n",
    "def FrequentWords(Text, k):\n",
    "    words = []\n",
    "    freq = FrequencyMap(Text, k)\n",
    "    m = max(freq.values())\n",
    "    for key in freq:\n",
    "        if freq[key] == m:\n",
    "            words.append(key) # add each key to words whose corresponding frequency value is equal to m\n",
    "    return words\n",
    "k = 5\n",
    "Text = \"ACGTTGCATGTCGCATGATGCATGAGAGCT\"\n",
    "\n",
    "print(FrequencyMap(Text, k))\n",
    "FrequentWords(Text, k)"
   ]
  },
  {
   "cell_type": "code",
   "execution_count": 65,
   "id": "b89249e0-2b3d-40c3-b9c9-1614a8684386",
   "metadata": {},
   "outputs": [
    {
     "data": {
      "text/plain": [
       "'ATGCCT'"
      ]
     },
     "execution_count": 65,
     "metadata": {},
     "output_type": "execute_result"
    }
   ],
   "source": [
    "#To create a function that returns the complement of a pattern as a string\n",
    "def Complement(Pattern):\n",
    "    compl = \"\"\n",
    "    for char in Pattern:\n",
    "        if char == \"T\":\n",
    "            compl += \"A\"\n",
    "        elif char == \"A\":\n",
    "            compl += \"T\"\n",
    "        elif char == \"C\":\n",
    "            compl += \"G\"\n",
    "        elif char == \"G\":\n",
    "            compl += \"C\"\n",
    "    return compl\n",
    "\n",
    "Pattern = \"TACGGA\"\n",
    "Complement(Pattern)"
   ]
  },
  {
   "cell_type": "code",
   "execution_count": 71,
   "id": "27d2e238-6f3d-4d33-9686-73a1f00c5f2a",
   "metadata": {},
   "outputs": [
    {
     "data": {
      "text/plain": [
       "'TTAAGCATGCCA'"
      ]
     },
     "execution_count": 71,
     "metadata": {},
     "output_type": "execute_result"
    }
   ],
   "source": [
    "#To create a function that returns the reverse of a pattern\n",
    "def Reverse(Pattern):\n",
    "    Pattern = Pattern[::-1]\n",
    "    return Pattern\n",
    "\n",
    "Pattern = \"ACCGTACGAATT\"\n",
    "Reverse(Pattern)"
   ]
  },
  {
   "cell_type": "code",
   "execution_count": 79,
   "id": "9fe3e94c-5c5a-4996-bf7b-4a5deb81f8f6",
   "metadata": {},
   "outputs": [
    {
     "name": "stdout",
     "output_type": "stream",
     "text": [
      "CTAGACC\n",
      "GGTCTAG\n"
     ]
    },
    {
     "data": {
      "text/plain": [
       "'GATCTGG'"
      ]
     },
     "execution_count": 79,
     "metadata": {},
     "output_type": "execute_result"
    }
   ],
   "source": [
    "#To create the reverse complement of a pattern\n",
    "def ReverseComplement(Pattern):\n",
    "    reversed_pattern = Reverse(Pattern) # reverse all letters in a string\n",
    "    complement_pattern = Complement(reversed_pattern) # complement each letter in a string\n",
    "    return complement_pattern\n",
    "    \n",
    "Pattern = \"CCAGATC\"\n",
    "print(Reverse(Pattern))\n",
    "print(Complement(Pattern))\n",
    "ReverseComplement(Pattern)"
   ]
  },
  {
   "cell_type": "code",
   "execution_count": 81,
   "id": "125f3bdb-a84c-479e-95c1-adbecba90063",
   "metadata": {},
   "outputs": [
    {
     "data": {
      "text/plain": [
       "[0, 26, 28, 30, 41]"
      ]
     },
     "execution_count": 81,
     "metadata": {},
     "output_type": "execute_result"
    }
   ],
   "source": [
    "# To create a function that returns a list of positions where a pattern occurs in a genome\n",
    "def PatternMatching(Pattern, Genome):\n",
    "    positions = [] # output variable\n",
    "    Pattern_length = len(Pattern)\n",
    "    Genome_length = len(Genome)\n",
    "\n",
    "    for i in range(Genome_length - Pattern_length + 1):\n",
    "        if Genome[i:i + Pattern_length] == Pattern:\n",
    "            positions.append(i)\n",
    "\n",
    "    return positions\n",
    "\n",
    "Genome = \"CGCGATACGTTACATACATGATAGACCGCGCGCGATCATATCGCGATTATC\"\n",
    "Pattern = \"CGCG\"\n",
    "\n",
    "PatternMatching(Pattern, Genome)"
   ]
  },
  {
   "cell_type": "code",
   "execution_count": 6,
   "id": "f63e34d1-8d1e-4021-bc17-a91294abe37c",
   "metadata": {},
   "outputs": [
    {
     "data": {
      "text/plain": [
       "True"
      ]
     },
     "execution_count": 6,
     "metadata": {},
     "output_type": "execute_result"
    }
   ],
   "source": [
    "True and not (False or False)"
   ]
  }
 ],
 "metadata": {
  "kernelspec": {
   "display_name": "Python 3 (ipykernel)",
   "language": "python",
   "name": "python3"
  },
  "language_info": {
   "codemirror_mode": {
    "name": "ipython",
    "version": 3
   },
   "file_extension": ".py",
   "mimetype": "text/x-python",
   "name": "python",
   "nbconvert_exporter": "python",
   "pygments_lexer": "ipython3",
   "version": "3.12.4"
  }
 },
 "nbformat": 4,
 "nbformat_minor": 5
}
