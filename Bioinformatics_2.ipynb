{
 "cells": [
  {
   "cell_type": "markdown",
   "id": "8fbb3019-6898-4b47-8440-32a31b1df002",
   "metadata": {},
   "source": [
    "# Function Definitions"
   ]
  },
  {
   "cell_type": "code",
   "execution_count": 3,
   "id": "85343102-6d6b-49b5-ab85-3c23f37fbfc7",
   "metadata": {},
   "outputs": [
    {
     "data": {
      "text/plain": [
       "33"
      ]
     },
     "execution_count": 3,
     "metadata": {},
     "output_type": "execute_result"
    }
   ],
   "source": [
    "#To create a function that returns the number of times a character (symbol) appears in a string (Extended Genome)\n",
    "#Extended Genome = Genome plus first half of Genome\n",
    "\n",
    "def PatternCount(symbol, ExtendedGenome):\n",
    "    count = 0\n",
    "    n = len(Genome)\n",
    "    ExtendedGenome = Genome + Genome[0:n//2]\n",
    "    for i in range(len(ExtendedGenome)):\n",
    "        if ExtendedGenome[i:i+(len(symbol))] == symbol:\n",
    "            count += 1\n",
    "    return count\n",
    "\n",
    "\n",
    "Genome = \"CTGCTTCGCCCGCCGGACCGGCCTCGTGATGGGGTATGCTTCGCCCGCCGGA\"\n",
    "symbol = \"C\"\n",
    "PatternCount(symbol, ExtendedGenome)"
   ]
  },
  {
   "cell_type": "code",
   "execution_count": 5,
   "id": "5810e782-ec80-4478-9850-73549d19c672",
   "metadata": {},
   "outputs": [
    {
     "name": "stdout",
     "output_type": "stream",
     "text": [
      "{0: 33, 1: 33, 2: 33, 3: 33, 4: 33, 5: 33, 6: 33, 7: 33, 8: 33, 9: 33, 10: 33, 11: 33, 12: 33, 13: 33, 14: 33, 15: 33, 16: 33, 17: 33, 18: 33, 19: 33, 20: 33, 21: 33, 22: 33, 23: 33, 24: 33, 25: 33, 26: 33, 27: 33, 28: 33, 29: 33, 30: 33, 31: 33, 32: 33, 33: 33, 34: 33, 35: 33, 36: 33, 37: 33, 38: 33, 39: 33, 40: 33, 41: 33, 42: 33, 43: 33, 44: 33, 45: 33, 46: 33, 47: 33, 48: 33, 49: 33, 50: 33, 51: 33}\n",
      "52\n"
     ]
    }
   ],
   "source": [
    "# To create a function that returns a dictionary of positions with frequency of character (symbol)\n",
    "def SymbolArray(Genome, symbol):\n",
    "    array = {}\n",
    "    n = len(Genome)\n",
    "    ExtendedGenome = Genome + Genome[0:n//2]\n",
    "    for i in range(n):\n",
    "        array[i] = PatternCount(symbol, ExtendedGenome[i:i+(n//2)])\n",
    "    return array\n",
    "\n",
    "Genome = \"CTGCTTCGCCCGCCGGACCGGCCTCGTGATGGGGTATGCTTCGCCCGCCGGA\"\n",
    "symbol = \"C\"\n",
    "print(SymbolArray(Genome, symbol))\n",
    "print(n)"
   ]
  },
  {
   "cell_type": "code",
   "execution_count": 11,
   "id": "5002985a-8a42-4dda-a4cb-bc87a69f131d",
   "metadata": {},
   "outputs": [
    {
     "name": "stdout",
     "output_type": "stream",
     "text": [
      "[2, 1, 1, 1, 1, 1, 1, 1, 1, 1, 1, 1, 1, 1, 1, 1, 1, 1, 1, 1, 1, 1, 1, 1, 1, 1, 1, 1, 1, 1, 1, 1, 1, 1, 1, 1, 1, 1, 1, 1, 1, 1, 1, 1, 1, 1, 1, 1, 1, 1, 1, 1]\n"
     ]
    }
   ],
   "source": [
    "# to create a function to compute the frequency of a symbol through a string as a list.\n",
    "def SymbolArray(Genome, symbol):\n",
    "    array = []\n",
    "    n = len(Genome)\n",
    "    ExtendedGenome = Genome + Genome[0:n//2]\n",
    "    for i in range(n):\n",
    "        count = PatternCount(ExtendedGenome[i:i+(n//2)], symbol)\n",
    "        array.append(count)\n",
    "    return array\n",
    "\n",
    "print(SymbolArray(Genome, symbol))"
   ]
  },
  {
   "cell_type": "code",
   "execution_count": 15,
   "id": "e6bfa13c-3dbe-4c4e-afa2-6bf3211da677",
   "metadata": {},
   "outputs": [
    {
     "name": "stdout",
     "output_type": "stream",
     "text": [
      "{0: 33, 1: 32, 2: 32, 3: 32, 4: 31, 5: 31, 6: 31, 7: 30, 8: 30, 9: 29, 10: 28, 11: 27, 12: 27, 13: 27, 14: 26, 15: 26, 16: 27, 17: 27, 18: 27, 19: 27, 20: 28, 21: 28, 22: 28, 23: 28, 24: 28, 25: 27, 26: 27, 27: 28, 28: 28, 29: 28, 30: 29, 31: 29, 32: 29, 33: 30, 34: 30, 35: 31, 36: 32, 37: 33, 38: 33, 39: 33, 40: 34, 41: 34, 42: 33, 43: 33, 44: 33, 45: 33, 46: 32, 47: 32, 48: 32, 49: 32, 50: 32, 51: 33}\n"
     ]
    }
   ],
   "source": [
    "#to create a more efficient symbol array function\n",
    "def FasterSymbolArray(Genome, symbol):\n",
    "    array = {}\n",
    "    n = len(Genome)\n",
    "    ExtendedGenome = Genome + Genome[0:n//2]\n",
    "\n",
    "    # look at the first half of Genome to compute first array value\n",
    "    array[0] = PatternCount(symbol, Genome[0:n//2])\n",
    "\n",
    "    for i in range(1, n):\n",
    "        # start by setting the current array value equal to the previous array value\n",
    "        array[i] = array[i-1]\n",
    "\n",
    "        # the current array value can differ from the previous array value by at most 1\n",
    "        if ExtendedGenome[i-1] == symbol:\n",
    "            array[i] = array[i]-1\n",
    "        if ExtendedGenome[i+(n//2)-1] == symbol:\n",
    "            array[i] = array[i]+1\n",
    "    return array\n",
    "\n",
    "print(FasterSymbolArray(Genome, symbol))"
   ]
  },
  {
   "cell_type": "code",
   "execution_count": 17,
   "id": "6db52dad-5430-4546-9cef-9a7f45f3cd8a",
   "metadata": {},
   "outputs": [
    {
     "data": {
      "text/plain": [
       "52"
      ]
     },
     "execution_count": 17,
     "metadata": {},
     "output_type": "execute_result"
    }
   ],
   "source": [
    "len(Genome)"
   ]
  },
  {
   "cell_type": "code",
   "execution_count": 19,
   "id": "f8c967d7-c462-468c-bb7c-6b70f7fcdfe7",
   "metadata": {},
   "outputs": [
    {
     "data": {
      "text/plain": [
       "1"
      ]
     },
     "execution_count": 19,
     "metadata": {},
     "output_type": "execute_result"
    }
   ],
   "source": [
    "len(symbol)"
   ]
  },
  {
   "cell_type": "code",
   "execution_count": 27,
   "id": "91e76cdc-5eea-4e8d-9f1a-01a23a8b0655",
   "metadata": {},
   "outputs": [
    {
     "name": "stdout",
     "output_type": "stream",
     "text": [
      "{0: 0, 1: 1, 2: 1, 3: 2, 4: 1, 5: 0, 6: 0, 7: -1, 8: -2, 9: -1, 10: -2, 11: -1, 12: -1, 13: -1, 14: -1}\n",
      "dict_values([0, 1, 1, 2, 1, 0, 0, -1, -2, -1, -2, -1, -1, -1, -1])\n"
     ]
    }
   ],
   "source": [
    "#to create a function with returns the skew array of a genome\n",
    "def SkewArray(Genome):\n",
    "    skew = {0:0}\n",
    "    for i in range(len(Genome)):\n",
    "        if Genome[i] == \"T\" or Genome[i] == \"A\":\n",
    "            skew[i+1] = skew[i]\n",
    "        elif Genome[i] == \"G\":\n",
    "            skew[i+1] = skew[i]+1\n",
    "        elif Genome[i] == \"C\":\n",
    "            skew[i+1] = skew[i]-1\n",
    "    return skew\n",
    "\n",
    "Genome = \"GAGCCACCGCGATA\"\n",
    "print(SkewArray(Genome))\n",
    "print(SkewArray(Genome).values())"
   ]
  },
  {
   "cell_type": "code",
   "execution_count": 29,
   "id": "aa16f4ae-06f9-4b58-b6d7-0adcdfb7b825",
   "metadata": {},
   "outputs": [
    {
     "data": {
      "text/plain": [
       "dict_values([0, 1, 1, 2, 1, 0, 0, -1, -2, -1, -2, -1, -1, -1, -1])"
      ]
     },
     "execution_count": 29,
     "metadata": {},
     "output_type": "execute_result"
    }
   ],
   "source": [
    "SkewArray(Genome).values()"
   ]
  },
  {
   "cell_type": "code",
   "execution_count": 31,
   "id": "3e485cba-6a76-4230-be31-f476545ef01a",
   "metadata": {},
   "outputs": [
    {
     "data": {
      "text/plain": [
       "[0]"
      ]
     },
     "execution_count": 31,
     "metadata": {},
     "output_type": "execute_result"
    }
   ],
   "source": [
    "#to create a function that returns the minimun skew vaules of a skew array\n",
    "def MinimumSkew(Genome):\n",
    "    skew = SkewArray(Genome)\n",
    "    min_skew = min(skew)\n",
    "    min_skew_values = [i for i, value in enumerate(skew) if value == min_skew]\n",
    "    \n",
    "    return min_skew_values\n",
    "\n",
    "\n",
    "Genome = \"GATACACTTCCCGAGTAGGTACTG\"\n",
    "\n",
    "MinimumSkew(Genome)"
   ]
  },
  {
   "cell_type": "code",
   "execution_count": 35,
   "id": "6ac61f81-3933-42a5-84eb-78886043957b",
   "metadata": {},
   "outputs": [
    {
     "data": {
      "text/plain": [
       "50"
      ]
     },
     "execution_count": 35,
     "metadata": {},
     "output_type": "execute_result"
    }
   ],
   "source": [
    "#Define a function which calculates the hamming distance between two strings of equal length\n",
    "def HammingDistance(p, q):\n",
    "    if len(p) != len(q):\n",
    "        raise ValueError(\"Strings must be of equal length\")\n",
    "    distance = sum(1 for a, b in zip(p, q) if a != b)\n",
    "    return distance\n",
    "\n",
    "p = \"TGACCCGTTATGCTCGAGTTCGGTCAGAGCGTCATTGCGAGTAGTCGTTTGCTTTCTCAAACTCC\"\n",
    "q = \"GAGCGATTAAGCGTGACAGCCCCAGGGAACCCACAAAACGTGATCGCAGTCCATCCGATCATACA\"\n",
    "\n",
    "HammingDistance(p, q)"
   ]
  },
  {
   "cell_type": "code",
   "execution_count": 37,
   "id": "820d5f9b-b46a-4d13-81e6-bee7ac231bc4",
   "metadata": {},
   "outputs": [
    {
     "data": {
      "text/plain": [
       "3"
      ]
     },
     "execution_count": 37,
     "metadata": {},
     "output_type": "execute_result"
    }
   ],
   "source": [
    "#An alternative function for Hamming Distance\n",
    "def HammingDistance(p, q):\n",
    "    distance = sum(1 for a, b in zip(p, q) if a != b)\n",
    "    return distance\n",
    "\n",
    "p = \"GGGCCGTTGGT\"\n",
    "q = \"GGACCGTTGAC\"\n",
    "HammingDistance(p, q)"
   ]
  },
  {
   "cell_type": "code",
   "execution_count": 47,
   "id": "4c5d88d8-9b29-4ec5-940c-9ee21fc3d875",
   "metadata": {},
   "outputs": [
    {
     "data": {
      "text/plain": [
       "[2, 3, 4, 12, 55, 61, 62]"
      ]
     },
     "execution_count": 47,
     "metadata": {},
     "output_type": "execute_result"
    }
   ],
   "source": [
    "#to create a function which calculates the approximate number of matches for a specific pattern in a string with a specific maximum value of mismatches\n",
    "def ApproximatePatternMatching(text, pattern, max_mismatches):\n",
    "    positions = []\n",
    "    pattern_length = len(pattern)\n",
    "    \n",
    "    for i in range(len(text) - pattern_length + 1):\n",
    "        substring = text[i:i + pattern_length]\n",
    "        if HammingDistance(substring, pattern) <= max_mismatches:\n",
    "            positions.append(i)\n",
    "    \n",
    "    return positions\n",
    "\n",
    "text = \"TGACCCGTTATGCTCGAGTTCGGTCAGAGCGTCATTGCGAGTAGTCGTTTGCTTTCTCAAACTCC\"\n",
    "pattern = \"CCC\"\n",
    "max_mismatches = 1\n",
    "ApproximatePatternMatching(text, pattern, max_mismatches)"
   ]
  },
  {
   "cell_type": "code",
   "execution_count": 53,
   "id": "d6e55410-2d9c-4a1f-90e5-b2184499b002",
   "metadata": {},
   "outputs": [
    {
     "data": {
      "text/plain": [
       "7"
      ]
     },
     "execution_count": 53,
     "metadata": {},
     "output_type": "execute_result"
    }
   ],
   "source": [
    "#to define a function which counts the approximate number of specific patterns found in a text with a max number of mismatches\n",
    "def ApproximatePatternCount(Pattern, Text, d):\n",
    "    count = 0\n",
    "    for i in range(len(Text)-len(Pattern)+1):\n",
    "         if HammingDistance(Pattern, Text[i:i+len(Pattern)]) <= d:\n",
    "            count += 1\n",
    "    return count\n",
    "\n",
    "Text = \"TGACCCGTTATGCTCGAGTTCGGTCAGAGCGTCATTGCGAGTAGTCGTTTGCTTTCTCAAACTCC\"\n",
    "Pattern = \"CCC\"\n",
    "d = 1\n",
    "ApproximatePatternCount(Pattern, Text, d)"
   ]
  },
  {
   "cell_type": "code",
   "execution_count": 55,
   "id": "38456997-b857-47d1-ac96-638039facddc",
   "metadata": {},
   "outputs": [
    {
     "data": {
      "text/plain": [
       "[24]"
      ]
     },
     "execution_count": 55,
     "metadata": {},
     "output_type": "execute_result"
    }
   ],
   "source": [
    "#to create a function which returns maximum skew value \n",
    "def MaximumSkew(Genome):\n",
    "    skew = SkewArray(Genome)\n",
    "    max_skew = max(skew)\n",
    "    max_skew_values = [i for i, value in enumerate(skew) if value == max_skew]\n",
    "    \n",
    "    return max_skew_values\n",
    "\n",
    "\n",
    "Genome = \"GATACACTTCCCGAGTAGGTACTG\"\n",
    "print(MaximumSkew(Genome))\n",
    "print("
   ]
  },
  {
   "cell_type": "code",
   "execution_count": 95,
   "id": "e3f1e958-14f7-4e5a-9c0e-19abdfe7231b",
   "metadata": {},
   "outputs": [
    {
     "name": "stdout",
     "output_type": "stream",
     "text": [
      "10\n"
     ]
    }
   ],
   "source": [
    "x=0\n",
    "for y in range(0,5):\n",
    "    x+=y\n",
    "print(x)"
   ]
  },
  {
   "cell_type": "code",
   "execution_count": 101,
   "id": "6d4219f3-7a34-495b-ae9c-43f15a32e3e5",
   "metadata": {},
   "outputs": [
    {
     "data": {
      "text/plain": [
       "[0, 1, 12, 3, 4]"
      ]
     },
     "execution_count": 101,
     "metadata": {},
     "output_type": "execute_result"
    }
   ],
   "source": [
    "a=list(range(5))\n",
    "b=a\n",
    "a[2]=12\n",
    "b"
   ]
  },
  {
   "cell_type": "code",
   "execution_count": null,
   "id": "2c9b384d-9be2-41da-82ce-9a028569ee08",
   "metadata": {},
   "outputs": [],
   "source": []
  }
 ],
 "metadata": {
  "kernelspec": {
   "display_name": "Python 3 (ipykernel)",
   "language": "python",
   "name": "python3"
  },
  "language_info": {
   "codemirror_mode": {
    "name": "ipython",
    "version": 3
   },
   "file_extension": ".py",
   "mimetype": "text/x-python",
   "name": "python",
   "nbconvert_exporter": "python",
   "pygments_lexer": "ipython3",
   "version": "3.12.4"
  }
 },
 "nbformat": 4,
 "nbformat_minor": 5
}
